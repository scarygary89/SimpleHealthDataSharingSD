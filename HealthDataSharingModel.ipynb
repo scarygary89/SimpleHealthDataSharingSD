{
 "cells": [
  {
   "cell_type": "markdown",
   "metadata": {},
   "source": [
    "# Simple Health Data Sharing Model in R\n",
    "\n",
    "Our model that we present in chapter named ***From Causal Loop Diagrams to System Dynamics Models in a Data-rich Ecosystem***, we presented a simple model of data sharing and patient health.  The following figure shows the stock and flow diagram.  Stock and flow diagrams are developed based on an interdisciplinary effort which can start from a causal loop diagram (CLD).  \n",
    "\n",
    "![***Stock and Flow Diagram***](StockFlowDataShare.png)\n",
    "\n",
    "\n",
    "This model is developed based on the premise that patients in hospitals have the option to share their Electronic Medical Records (EMR) data.  We have four stock variables in our model: Patients $P$, Shared EMR Data $D_S$,  Health Research Data $D_R$, and Approved Treatments $T$.  These stock and flow variables are mathematically defined as derivatives.\n",
    "\n",
    "\n",
    "\\begin{align}\n",
    "\\text{Patients in hospitals (stock):}&\\quad  \\frac{\\mathrm{d}P(t)}{\\mathrm{d}t} =  IP(t) - OP(t) \\\\[1em]\n",
    "\\text{Admissions (inflow): }&\\quad IP(t) = SP(t) \\\\[1em]\n",
    "\\text{Discharges (outflow): }&\\quad OP(t) = \\lambda \\cdot P(t) \\\\[1em]\n",
    "\\text{Shared EMR Data (stock):}&\\quad \\frac{\\mathrm{d}D_\\mathrm{S}(t)}{\\mathrm{d}t} = ID_\\mathrm{S}(t)  \\\\[1em]\n",
    "\\text{Creation of Shared EMR Data (inflow):}&\\quad ID_\\mathrm{S}(t) = P(t) \\cdot \\widehat{D}_\\mathrm{S}(t)\\\\[1em]\n",
    "\\text{Health Research Data (stock):}&\\quad \\frac{\\mathrm{d}D_\\mathrm{R}(t)}{\\mathrm{d}t} = ID_\\mathrm{R}(t)  \\\\[1em]\n",
    "\\text{Creation of Health Research Data (inflow):}&\\quad ID_\\mathrm{R}(t) = CT(t) \\cdot \\widehat{D}_\\mathrm{R}(t) \\\\[1em]\n",
    "\\text{Available Treatments (stock):}&\\quad \\frac{\\mathrm{d}T(t)}{\\mathrm{d}t} = IT(t) - OT(t) \\\\[1em]\n",
    "\\text{Approved Treatments per month (inflow):}&\\quad IT(t) = \\sigma \\cdot RP(t) \\cdot CT(t)\\\\[1em]\n",
    "\\text{Obsolete Treatments per month (outflow):}&\\quad OT(t) = \\phi \\cdot T(t)\n",
    "\\end{align}\n",
    "\n",
    "\n",
    "Patients stocks are determined by the number of admissions $IP$ and the number of discharges $OP$.  We included an inflow to Shared EMR Data as a variable called $ID_\\mathrm{S}$.  The Health Research Data is represented by the Creation of Health Research Data $ID_\\mathrm{R}$.  The stock, Approved Treatments, has an inflow and outflow variable, Approved Drugs per year $IT$ and Obsolete Treatments per year $OT$.  \n",
    "\n",
    "\n",
    "\n"
   ]
  },
  {
   "cell_type": "markdown",
   "metadata": {},
   "source": [
    "We also have several auxiliary variables and these are mathematically defined as\n",
    "\n",
    "\n",
    "\\begin{align}\n",
    "\\text{Security breeches:}&\\quad  S(t) = \\alpha \\cdot D_\\mathrm{S}(t)\\\\[1em]\n",
    "\\text{Willingness to share EMR data:}&\\quad WS(t) = \\frac{1}{\\beta\\cdot S(t)}  \\\\[1em]\n",
    "\\text{Data shared per patient:}&\\quad \\widehat{D}_\\mathrm{S}(t) = \\gamma \\cdot WS(t) \\\\[1em]\n",
    "\\text{General health:}&\\quad H(t) = \\delta \\cdot TR(t) \\\\[1em]\n",
    "\\text{Sick fraction:}&\\quad SF(t) = \\min\\left(\\frac{1}{\\zeta \\cdot H(t)},\\; 1\\right) \\\\[1em]\n",
    "\\text{Sick population:}&\\quad SP(t) = \\omega \\cdot SF(t) \\\\[1em]\n",
    "\\text{Healthy population:}&\\quad HP(t) = \\omega - SP(t) \\\\[1em]\n",
    "\\text{Total data:}&\\quad D(t) = D_\\mathrm{S}(t) + D_\\mathrm{R}(t) \\\\[1em]\n",
    "\\text{Research productivity:}&\\quad RP(t) = \\eta_1 + \\eta_2 \\cdot \\ln(D(t)) \\\\[1em]\n",
    "\\text{Motivation to join a trial:}&\\quad MT(t) = \\theta \\cdot SP(t) \\\\[1em]\n",
    "\\text{Enrollment per trial:}&\\quad EN(t) = HP(t) \\cdot MT(t) \\\\[1em]\n",
    "\\text{Cost per trial:}&\\quad C(t) = \\nu \\cdot EN(t) \\\\[1em]\n",
    "\\text{Data generated per trial:}&\\quad \\widehat{D}_\\mathrm{R} = \\mu \\cdot EN(t) \\\\[1em]\n",
    "\\text{R&D budget:}&\\quad R(t) = \\rho \\cdot \\frac{TR(t)}{HP(t)} \\\\[1em]\n",
    "\\text{Number of clinical trials:}&\\quad CT(t) = \\frac{R(t)}{C(t)} \n",
    "\\end{align}\n",
    "\n"
   ]
  },
  {
   "cell_type": "markdown",
   "metadata": {},
   "source": [
    "The parameters are represented by greek letters in our model.\n",
    "\n",
    "We've presented a list of parameters in the following table.\n",
    "\n",
    "\n",
    "\n",
    "|Variable| Definition|\n",
    "|-|-|\n",
    "| $\\alpha$ | Security Risk (Percentage) |\n",
    "| $\\beta$ | Sensitivity to security risks |\n",
    "| $\\gamma$ | Unrestricted data sharing  |\n",
    "| $\\delta$ | Availability of treatment on general health |\n",
    "| $\\zeta$ | Inverse relationship between general health and sickness frequency |\n",
    "| $\\eta_1$ | Data Technology Multiplier |\n",
    "| $\\eta_2$ | Data Input Elasticity  |\n",
    "| $\\rho$ |  Market success on R&D budget  |\n",
    "| $\\nu$ | Cost per subject |\n",
    "| $\\sigma$ | Clinical trials multiplier |\n",
    "| $\\theta$ | Sick population effect on enrollment motivation |\n",
    "| $\\lambda$ | Hospital discharge rate |\n",
    "| $\\mu$ | Trial enrollment size on data generated per trial |\n",
    "| $\\phi$ | Obsolete treatment fraction |\n",
    "| $\\omega$ | Population |\n",
    "\n"
   ]
  },
  {
   "cell_type": "markdown",
   "metadata": {},
   "source": [
    "## Implmentation in R\n",
    "### Building the Model\n",
    "In this section, we implement the conceptual system dynamics model that was developed by an interdisciplinary team of researchers.  Since a system dynamics model is essentially a system of differential equations, we will employ the **deSolve** library in R.  The library includes several different types of solvers like forward/back Euler's method, Runge-Kutta family methods, and other advanced numerical methods.  We will also call the commonly used plotting library, ***ggplot2***, to help us visualize our outputs.\n"
   ]
  },
  {
   "cell_type": "code",
   "execution_count": 1,
   "metadata": {},
   "outputs": [],
   "source": [
    "library(deSolve)\n",
    "library(ggplot2)"
   ]
  },
  {
   "cell_type": "markdown",
   "metadata": {},
   "source": [
    "We begin by defining the stock variables in the model as a vector in R."
   ]
  },
  {
   "cell_type": "code",
   "execution_count": 2,
   "metadata": {},
   "outputs": [],
   "source": [
    "InitStocks <- c(\n",
    "    P = 100,                  # Patients (People)\n",
    "    DS = 50,                  # Shared EMR Data\n",
    "    DR = 100,                 # Health Research Data\n",
    "    TR = 10                   # Approved Treatments\n",
    ")"
   ]
  },
  {
   "cell_type": "markdown",
   "metadata": {},
   "source": [
    "We then define the parameters that inform the equations in our model as a vector."
   ]
  },
  {
   "cell_type": "code",
   "execution_count": 3,
   "metadata": {},
   "outputs": [],
   "source": [
    "Parms <- c(\n",
    "    alpha = 0.1,              # Security Risk (Percentage)\n",
    "    beta = 1,                 # Sensitivity to security risks\n",
    "    gamma = 10,               # Unrestricted data sharing \n",
    "    delta = 5,                # Availability of treatment on general health\n",
    "    zeta = 3,                 # Inverse relationship between general health and sickness frequency\n",
    "    eta1 = 0.3,               # Data Technology Multiplier\n",
    "    eta2 = 1,                 # Data Input Elasticity \n",
    "    rho = 7.5,                # Market success on R&D budget \n",
    "    nu = 1,                   # Cost per subject\n",
    "    sigma = 1,                # Clinical trials multiplier\n",
    "    theta = 1,                # Sick population effect on enrollment motivation\n",
    "    lambda = 0.8,             # Hospital discharge rate\n",
    "    mu = 10,                  # Trial enrollment size on data generated per trial\n",
    "    phi = 0.05,               # Obsolete treatment fraction\n",
    "    omega = 50000             # Population\n",
    ")"
   ]
  },
  {
   "cell_type": "markdown",
   "metadata": {},
   "source": [
    "The equations of the system dynamics model is defined as a function in the following script.  For more information pertaining to the system dynamics in R, please refer to <cite data-cite=\"duggan2016system\"></cite>"
   ]
  },
  {
   "cell_type": "code",
   "execution_count": 4,
   "metadata": {},
   "outputs": [],
   "source": [
    "HealthDataMod <- function(time, stocks, parms){\n",
    "    with(as.list(c(stocks, parms)),{ \n",
    "    # Auxiliary Variables\n",
    "        S = alpha * DS               # Security breeches\n",
    "        WS =  1/(beta * S)           # Willingness to Share Data\n",
    "        DShat = gamma * WS           # Data shared per patient\n",
    "        H = delta * TR               # General Health \n",
    "        SF = min(1 / (zeta * H), 1)  # Sick fraction\n",
    "        SP = omega * SF              # Sick population\n",
    "        HP = omega - SP              # Healthy population\n",
    "        D = DS + DR                  # Total data\n",
    "        RP = eta1 + eta2 * log(D)    # Research productivity\n",
    "        MT = theta * SP              # Motivation to join a clinical trial\n",
    "        EN = HP * MT                 # Enrollment per trial\n",
    "        C = nu * EN                  # Cost per trial\n",
    "        DRhat = mu * EN              # Data generated per trial\n",
    "        R = rho * TR / HP            # R&D budget\n",
    "        CT = R / C                   # Number of clinical trials\n",
    "      \n",
    "    # Flows\n",
    "        IP = omega * SF              # Number of hospital admissions\n",
    "        OP = lambda * P              # Number of hospital discharges\n",
    "        IDS = P * DShat              # Creation of shared EMR data\n",
    "        IDR = CT * DRhat             # Creation of health reasearch data\n",
    "        IT =  sigma * RP * CT        # Approved treatments per month\n",
    "        OT = phi * TR                # Obsolete treatments per month\n",
    "      \n",
    "    # Stocks\n",
    "        dP_dt = IP - OP              # Patients in Hospitals\n",
    "        dDS_dt = IDS                 # Shared EMR Data\n",
    "        dDR_dt = IDR                 # Health research data\n",
    "        dTR_dt = IT - OT             # Available treatments\n",
    "      \n",
    "        dstocks = c(dP_dt, dDS_dt, dDR_dt, dTR_dt)\n",
    "    # Output\n",
    "        return(list(dstocks,\n",
    "        H = H,                     # General health\n",
    "        WS = WS,                   # Willingness to share\n",
    "        R = R,                     # R&D budget\n",
    "        MT = MT,                   # Motivation to join a clinical trial\n",
    "        S = S                      # Security breeches\n",
    "    ))\n",
    "  })\n",
    "}"
   ]
  },
  {
   "cell_type": "markdown",
   "metadata": {},
   "source": [
    "After the model's variables and equations are defined, we can initialize and run the model with the following command.  The output is stored in the *modout* variable."
   ]
  },
  {
   "cell_type": "code",
   "execution_count": 5,
   "metadata": {},
   "outputs": [
    {
     "data": {
      "text/html": [
       "<table>\n",
       "<thead><tr><th scope=col>time</th><th scope=col>P</th><th scope=col>DS</th><th scope=col>DR</th><th scope=col>TR</th><th scope=col>H</th><th scope=col>WS</th><th scope=col>R</th><th scope=col>MT</th><th scope=col>S</th></tr></thead>\n",
       "<tbody>\n",
       "\t<tr><td>1          </td><td>100.0000   </td><td> 50.0000   </td><td>100.0000   </td><td>10.000000  </td><td>50.00000   </td><td>0.20000000 </td><td>0.001510067</td><td>333.3333   </td><td> 5.00000   </td></tr>\n",
       "\t<tr><td>2          </td><td>280.2977   </td><td>207.1728   </td><td>100.0147   </td><td> 9.512294  </td><td>47.56147   </td><td>0.04826889 </td><td>0.001436915</td><td>350.4237   </td><td>20.71728   </td></tr>\n",
       "\t<tr><td>3          </td><td>373.7992   </td><td>330.7048   </td><td>100.0288   </td><td> 9.048374  </td><td>45.24187   </td><td>0.03023845 </td><td>0.001367330</td><td>368.3903   </td><td>33.07048   </td></tr>\n",
       "\t<tr><td>4          </td><td>428.7101   </td><td>435.9749   </td><td>100.0421   </td><td> 8.607080  </td><td>43.03540   </td><td>0.02293710 </td><td>0.001301140</td><td>387.2781   </td><td>43.59749   </td></tr>\n",
       "\t<tr><td>5          </td><td>466.8382   </td><td>528.9826   </td><td>100.0548   </td><td> 8.187308  </td><td>40.93654   </td><td>0.01890422 </td><td>0.001238178</td><td>407.1342   </td><td>52.89826   </td></tr>\n",
       "\t<tr><td>6          </td><td>498.0679   </td><td>613.5033   </td><td>100.0669   </td><td> 7.788008  </td><td>38.94004   </td><td>0.01629983 </td><td>0.001178288</td><td>428.0085   </td><td>61.35033   </td></tr>\n",
       "</tbody>\n",
       "</table>\n"
      ],
      "text/latex": [
       "\\begin{tabular}{llllllllll}\n",
       " time & P & DS & DR & TR & H & WS & R & MT & S\\\\\n",
       "\\hline\n",
       "\t 1           & 100.0000    &  50.0000    & 100.0000    & 10.000000   & 50.00000    & 0.20000000  & 0.001510067 & 333.3333    &  5.00000   \\\\\n",
       "\t 2           & 280.2977    & 207.1728    & 100.0147    &  9.512294   & 47.56147    & 0.04826889  & 0.001436915 & 350.4237    & 20.71728   \\\\\n",
       "\t 3           & 373.7992    & 330.7048    & 100.0288    &  9.048374   & 45.24187    & 0.03023845  & 0.001367330 & 368.3903    & 33.07048   \\\\\n",
       "\t 4           & 428.7101    & 435.9749    & 100.0421    &  8.607080   & 43.03540    & 0.02293710  & 0.001301140 & 387.2781    & 43.59749   \\\\\n",
       "\t 5           & 466.8382    & 528.9826    & 100.0548    &  8.187308   & 40.93654    & 0.01890422  & 0.001238178 & 407.1342    & 52.89826   \\\\\n",
       "\t 6           & 498.0679    & 613.5033    & 100.0669    &  7.788008   & 38.94004    & 0.01629983  & 0.001178288 & 428.0085    & 61.35033   \\\\\n",
       "\\end{tabular}\n"
      ],
      "text/markdown": [
       "\n",
       "time | P | DS | DR | TR | H | WS | R | MT | S | \n",
       "|---|---|---|---|---|---|\n",
       "| 1           | 100.0000    |  50.0000    | 100.0000    | 10.000000   | 50.00000    | 0.20000000  | 0.001510067 | 333.3333    |  5.00000    | \n",
       "| 2           | 280.2977    | 207.1728    | 100.0147    |  9.512294   | 47.56147    | 0.04826889  | 0.001436915 | 350.4237    | 20.71728    | \n",
       "| 3           | 373.7992    | 330.7048    | 100.0288    |  9.048374   | 45.24187    | 0.03023845  | 0.001367330 | 368.3903    | 33.07048    | \n",
       "| 4           | 428.7101    | 435.9749    | 100.0421    |  8.607080   | 43.03540    | 0.02293710  | 0.001301140 | 387.2781    | 43.59749    | \n",
       "| 5           | 466.8382    | 528.9826    | 100.0548    |  8.187308   | 40.93654    | 0.01890422  | 0.001238178 | 407.1342    | 52.89826    | \n",
       "| 6           | 498.0679    | 613.5033    | 100.0669    |  7.788008   | 38.94004    | 0.01629983  | 0.001178288 | 428.0085    | 61.35033    | \n",
       "\n",
       "\n"
      ],
      "text/plain": [
       "     time P        DS       DR       TR        H        WS         R          \n",
       "[1,] 1    100.0000  50.0000 100.0000 10.000000 50.00000 0.20000000 0.001510067\n",
       "[2,] 2    280.2977 207.1728 100.0147  9.512294 47.56147 0.04826889 0.001436915\n",
       "[3,] 3    373.7992 330.7048 100.0288  9.048374 45.24187 0.03023845 0.001367330\n",
       "[4,] 4    428.7101 435.9749 100.0421  8.607080 43.03540 0.02293710 0.001301140\n",
       "[5,] 5    466.8382 528.9826 100.0548  8.187308 40.93654 0.01890422 0.001238178\n",
       "[6,] 6    498.0679 613.5033 100.0669  7.788008 38.94004 0.01629983 0.001178288\n",
       "     MT       S       \n",
       "[1,] 333.3333  5.00000\n",
       "[2,] 350.4237 20.71728\n",
       "[3,] 368.3903 33.07048\n",
       "[4,] 387.2781 43.59749\n",
       "[5,] 407.1342 52.89826\n",
       "[6,] 428.0085 61.35033"
      ]
     },
     "metadata": {},
     "output_type": "display_data"
    }
   ],
   "source": [
    "t0 = 1\n",
    "tf = 100\n",
    "tstep = 1\n",
    "trange = seq(t0,tf,tstep)\n",
    "ModOut = ode(y = InitStocks, times = trange, func = HealthDataMod, parms = Parms, method = 'rk4')\n",
    "head(ModOut)"
   ]
  },
  {
   "cell_type": "markdown",
   "metadata": {},
   "source": [
    "We can plot the output in the following figure using the basic R plotting features."
   ]
  },
  {
   "cell_type": "code",
   "execution_count": 6,
   "metadata": {},
   "outputs": [
    {
     "data": {
      "image/png": "[encoded data removed]",
      "text/plain": [
       "Plot with title \"S\""
      ]
     },
     "metadata": {},
     "output_type": "display_data"
    }
   ],
   "source": [
    "plot(ModOut)"
   ]
  },
  {
   "cell_type": "markdown",
   "metadata": {},
   "source": [
    "Now that we have the general behavior of all the output variables.   Please note that the output variables include all the stocks and some of the auxiliary variables that we are interested.  "
   ]
  },
  {
   "cell_type": "markdown",
   "metadata": {},
   "source": [
    "### Integrating Data and Parameterization\n",
    "We can start comparing the model against data once we have the structural equations set up.  We begin by parameterizing the against some data that we've created created.  For demonstration purposes, we've generated a toy dataset that might realistically depict actual behavior of the system.  The dataset is loaded into R with the following command. "
   ]
  },
  {
   "cell_type": "code",
   "execution_count": 7,
   "metadata": {},
   "outputs": [
    {
     "data": {
      "text/html": [
       "<table>\n",
       "<thead><tr><th scope=col>time</th><th scope=col>Patients</th><th scope=col>SharedData</th><th scope=col>SecBreech</th><th scope=col>Available.Treatments</th><th scope=col>HealthQualityIndex</th></tr></thead>\n",
       "<tbody>\n",
       "\t<tr><td>1        </td><td>100      </td><td> 50.00000</td><td>0.1478015</td><td>10       </td><td>50.00000 </td></tr>\n",
       "\t<tr><td>2        </td><td>101      </td><td> 53.47428</td><td>2.5465789</td><td>10       </td><td>48.35782 </td></tr>\n",
       "\t<tr><td>3        </td><td>102      </td><td> 63.26773</td><td>1.6708363</td><td> 9       </td><td>49.53028 </td></tr>\n",
       "\t<tr><td>4        </td><td>103      </td><td> 75.07058</td><td>0.3320670</td><td> 9       </td><td>48.26854 </td></tr>\n",
       "\t<tr><td>5        </td><td>106      </td><td> 88.07909</td><td>1.9252566</td><td> 9       </td><td>47.07393 </td></tr>\n",
       "\t<tr><td>6        </td><td>110      </td><td>100.30397</td><td>3.0430370</td><td> 9       </td><td>47.96094 </td></tr>\n",
       "</tbody>\n",
       "</table>\n"
      ],
      "text/latex": [
       "\\begin{tabular}{r|llllll}\n",
       " time & Patients & SharedData & SecBreech & Available.Treatments & HealthQualityIndex\\\\\n",
       "\\hline\n",
       "\t 1         & 100       &  50.00000 & 0.1478015 & 10        & 50.00000 \\\\\n",
       "\t 2         & 101       &  53.47428 & 2.5465789 & 10        & 48.35782 \\\\\n",
       "\t 3         & 102       &  63.26773 & 1.6708363 &  9        & 49.53028 \\\\\n",
       "\t 4         & 103       &  75.07058 & 0.3320670 &  9        & 48.26854 \\\\\n",
       "\t 5         & 106       &  88.07909 & 1.9252566 &  9        & 47.07393 \\\\\n",
       "\t 6         & 110       & 100.30397 & 3.0430370 &  9        & 47.96094 \\\\\n",
       "\\end{tabular}\n"
      ],
      "text/markdown": [
       "\n",
       "time | Patients | SharedData | SecBreech | Available.Treatments | HealthQualityIndex | \n",
       "|---|---|---|---|---|---|\n",
       "| 1         | 100       |  50.00000 | 0.1478015 | 10        | 50.00000  | \n",
       "| 2         | 101       |  53.47428 | 2.5465789 | 10        | 48.35782  | \n",
       "| 3         | 102       |  63.26773 | 1.6708363 |  9        | 49.53028  | \n",
       "| 4         | 103       |  75.07058 | 0.3320670 |  9        | 48.26854  | \n",
       "| 5         | 106       |  88.07909 | 1.9252566 |  9        | 47.07393  | \n",
       "| 6         | 110       | 100.30397 | 3.0430370 |  9        | 47.96094  | \n",
       "\n",
       "\n"
      ],
      "text/plain": [
       "  time Patients SharedData SecBreech Available.Treatments HealthQualityIndex\n",
       "1 1    100       50.00000  0.1478015 10                   50.00000          \n",
       "2 2    101       53.47428  2.5465789 10                   48.35782          \n",
       "3 3    102       63.26773  1.6708363  9                   49.53028          \n",
       "4 4    103       75.07058  0.3320670  9                   48.26854          \n",
       "5 5    106       88.07909  1.9252566  9                   47.07393          \n",
       "6 6    110      100.30397  3.0430370  9                   47.96094          "
      ]
     },
     "metadata": {},
     "output_type": "display_data"
    }
   ],
   "source": [
    "actualData <- read.csv(file = 'Data.csv',fileEncoding = 'UTF-8-BOM')\n",
    "head(actualData)"
   ]
  },
  {
   "cell_type": "markdown",
   "metadata": {},
   "source": [
    "We need to rename our dataset so the series name correspond with the model's variables so the solver can compare each the actual data with the simulated data.  We also need to reformat the \"wide\" table into a \"long\" table with three columns (*time*, *variable*, and *value*) using the `melt` command from the **reshape** library. "
   ]
  },
  {
   "cell_type": "code",
   "execution_count": 8,
   "metadata": {},
   "outputs": [
    {
     "data": {
      "text/html": [
       "<table>\n",
       "<thead><tr><th scope=col>time</th><th scope=col>variable</th><th scope=col>value</th></tr></thead>\n",
       "<tbody>\n",
       "\t<tr><td>1  </td><td>P  </td><td>100</td></tr>\n",
       "\t<tr><td>2  </td><td>P  </td><td>101</td></tr>\n",
       "\t<tr><td>3  </td><td>P  </td><td>102</td></tr>\n",
       "\t<tr><td>4  </td><td>P  </td><td>103</td></tr>\n",
       "\t<tr><td>5  </td><td>P  </td><td>106</td></tr>\n",
       "\t<tr><td>6  </td><td>P  </td><td>110</td></tr>\n",
       "</tbody>\n",
       "</table>\n"
      ],
      "text/latex": [
       "\\begin{tabular}{r|lll}\n",
       " time & variable & value\\\\\n",
       "\\hline\n",
       "\t 1   & P   & 100\\\\\n",
       "\t 2   & P   & 101\\\\\n",
       "\t 3   & P   & 102\\\\\n",
       "\t 4   & P   & 103\\\\\n",
       "\t 5   & P   & 106\\\\\n",
       "\t 6   & P   & 110\\\\\n",
       "\\end{tabular}\n"
      ],
      "text/markdown": [
       "\n",
       "time | variable | value | \n",
       "|---|---|---|---|---|---|\n",
       "| 1   | P   | 100 | \n",
       "| 2   | P   | 101 | \n",
       "| 3   | P   | 102 | \n",
       "| 4   | P   | 103 | \n",
       "| 5   | P   | 106 | \n",
       "| 6   | P   | 110 | \n",
       "\n",
       "\n"
      ],
      "text/plain": [
       "  time variable value\n",
       "1 1    P        100  \n",
       "2 2    P        101  \n",
       "3 3    P        102  \n",
       "4 4    P        103  \n",
       "5 5    P        106  \n",
       "6 6    P        110  "
      ]
     },
     "metadata": {},
     "output_type": "display_data"
    }
   ],
   "source": [
    "colnames(actualData) <- c('time','P','DS','S','TR','H')\n",
    "library(reshape)\n",
    "longActualData <- melt(actualData, id.vars = 'time')\n",
    "head(longActualData)"
   ]
  },
  {
   "cell_type": "markdown",
   "metadata": {},
   "source": [
    "The fit of a single variable in a model can oftentimes be measured as a residual, which is a difference between the actual and simulated points for each time step $t$.  There are different types of error measurements but for our model we choose *Sum of Squared Weighted Residuals* ($SSR$) as our error measure for each variable $j$ in our model.  This is defined mathematically as\n",
    "\n",
    "\\begin{equation}\n",
    "SSR_j = \\sum_{t=1}^{T}\\sum_{i=1}^{N} \\left(\\frac{\\widehat{Y}_{jt} - Y_{ijt}}{w_{j}}\\right)^2\n",
    "\\end{equation} \n",
    "\n",
    "For time $t$, we can use the system dynamics model to simulate predicted values $\\widehat{Y}_{jt}$, and use actual data to represent the true values of our variable $Y_{ijt}$.  $\\widehat{Y}_{jt}$ is a function of the parameters $\\beta_j$ and intial conditions $y_0$ -- in other words, $\\widehat{Y}_{jt} = f(\\beta_j,Y_j^{0})$.  We use $i$ to index each time series.  The formulation also includes weights $w_j$ for each variable $j$.  We will assume the weights are the mean value of each variable, which will rescale the residuals and normalize all variable to be independent of units.  We add another column to our dataframe `longActualData` called *weight* which is the mean value of each observed variable.  "
   ]
  },
  {
   "cell_type": "code",
   "execution_count": 9,
   "metadata": {},
   "outputs": [
    {
     "data": {
      "text/html": [
       "<table>\n",
       "<thead><tr><th scope=col>variable</th><th scope=col>time</th><th scope=col>value</th><th scope=col>weight</th></tr></thead>\n",
       "<tbody>\n",
       "\t<tr><td>P     </td><td>1     </td><td>100   </td><td>200.49</td></tr>\n",
       "\t<tr><td>P     </td><td>2     </td><td>101   </td><td>200.49</td></tr>\n",
       "\t<tr><td>P     </td><td>3     </td><td>102   </td><td>200.49</td></tr>\n",
       "\t<tr><td>P     </td><td>4     </td><td>103   </td><td>200.49</td></tr>\n",
       "\t<tr><td>P     </td><td>5     </td><td>106   </td><td>200.49</td></tr>\n",
       "\t<tr><td>P     </td><td>6     </td><td>110   </td><td>200.49</td></tr>\n",
       "</tbody>\n",
       "</table>\n"
      ],
      "text/latex": [
       "\\begin{tabular}{r|llll}\n",
       " variable & time & value & weight\\\\\n",
       "\\hline\n",
       "\t P      & 1      & 100    & 200.49\\\\\n",
       "\t P      & 2      & 101    & 200.49\\\\\n",
       "\t P      & 3      & 102    & 200.49\\\\\n",
       "\t P      & 4      & 103    & 200.49\\\\\n",
       "\t P      & 5      & 106    & 200.49\\\\\n",
       "\t P      & 6      & 110    & 200.49\\\\\n",
       "\\end{tabular}\n"
      ],
      "text/markdown": [
       "\n",
       "variable | time | value | weight | \n",
       "|---|---|---|---|---|---|\n",
       "| P      | 1      | 100    | 200.49 | \n",
       "| P      | 2      | 101    | 200.49 | \n",
       "| P      | 3      | 102    | 200.49 | \n",
       "| P      | 4      | 103    | 200.49 | \n",
       "| P      | 5      | 106    | 200.49 | \n",
       "| P      | 6      | 110    | 200.49 | \n",
       "\n",
       "\n"
      ],
      "text/plain": [
       "  variable time value weight\n",
       "1 P        1    100   200.49\n",
       "2 P        2    101   200.49\n",
       "3 P        3    102   200.49\n",
       "4 P        4    103   200.49\n",
       "5 P        5    106   200.49\n",
       "6 P        6    110   200.49"
      ]
     },
     "metadata": {},
     "output_type": "display_data"
    }
   ],
   "source": [
    "modCalVars <- unique(longActualData$variable)\n",
    "for(i in modCalVars) {\n",
    "    longActualData$weight[longActualData$variable == i] <- mean(longActualData$value\n",
    "        [longActualData$variable == i])\n",
    "}\n",
    "longActualData = longActualData[,c('variable','time','value','weight')]\n",
    "head(longActualData)"
   ]
  },
  {
   "cell_type": "markdown",
   "metadata": {},
   "source": [
    "In order to quantify the fit of our model, we define the model cost $MC$ as the sum of all the variables' $SSR_j$.\n",
    "\n",
    "\\begin{align}\n",
    "MC &= \\sum_{j=1}^{M} SSR_j \\\\\n",
    "   &= \\sum_{j=1}^{M} \\sum_{t=1}^{T}\\sum_{i=1}^{N} \\left(\\frac{\\widehat{Y}_{jt} - Y_{ijt}}{w_{j}}\\right)^2 \\\\\n",
    "   &= \\sum_{j=1}^{M} \\sum_{t=1}^{T}\\sum_{i=1}^{N} \\left(\\frac{f\\left(\\beta_j,Y_j^{0}\\right)_{jt} - Y_{ijt}}{w_{j}}\\right)^2\n",
    "\\end{align}\n",
    "\n",
    "We can use the R library **FME** to perform most of our parameter estimation operations.  We can also calculate $MC$ for a given set of parameters by using the `modCost` command to define a cost function.  We define function `CostFunction` that take in a vector of parameters, `p`, as inputs, which is the set of parameters that are being calibrated (defined as $\\beta_j$ in our program) and calculates the model cost $MC$.  \n",
    "\n"
   ]
  },
  {
   "cell_type": "code",
   "execution_count": 10,
   "metadata": {},
   "outputs": [
    {
     "name": "stderr",
     "output_type": "stream",
     "text": [
      "Loading required package: rootSolve\n",
      "Loading required package: coda\n"
     ]
    }
   ],
   "source": [
    "library(FME)\n",
    "CostFunction <- function(p,time,stocks,parms,yactual){\n",
    "    whichpar <- names(parms)[names(parms) %in% names(p)]\n",
    "    parms[whichpar] <- p[whichpar]\n",
    "    ysim <- ode(\n",
    "        y = stocks, \n",
    "        times = time, \n",
    "        func = HealthDataMod, \n",
    "        parms = parms, \n",
    "        method = 'rk4')\n",
    "    MC <- modCost(\n",
    "        model = ysim,\n",
    "        obs = yactual,\n",
    "        x = 'time',\n",
    "        y = 'value',\n",
    "        err = 'weight')\n",
    "    return(MC)\n",
    "}"
   ]
  },
  {
   "cell_type": "markdown",
   "metadata": {},
   "source": [
    "Based on the defined $MC$ cost function, we can develop an optimization program to calibrate our model.  We develop a mathematical program which minimizes the cost function with respect the parameters.\n",
    "\n",
    "\\begin{align}\n",
    "\\min_{\\beta_j} &\\quad  \\sum_{j=1}^{M} \\sum_{t=1}^{T}\\sum_{i=1}^{N} \\left(\\frac{f\\left(\\beta_j,Y_j^{0}\\right)_{jt} - Y_{ijt}}{w_{j}}\\right)^2\\\\\n",
    "\\text{subject to}: &\\quad \\underline{\\beta_j} \\leq \\beta_j \\leq \\overline{\\beta_j} \\quad j = 1,\\ldots,M\n",
    "\\end{align}\n",
    "\n",
    "where  $\\underline{\\beta_j}$ and $\\overline{\\beta_j}$ are the lower and upper bounds of possible values for our calibrated parameters.  \n",
    "\n",
    "We utilize a simple heuristic to solve the program with a user-defined function that wraps around `modFit` from the **FME** library and the previously created `CostFunction` into one function called `HealthModFit`.  Using the PORT optimization algorithm, we can determine the best set of parmater values that fit our data. "
   ]
  },
  {
   "cell_type": "code",
   "execution_count": 11,
   "metadata": {},
   "outputs": [],
   "source": [
    "HealthModFit <- function(parvalue,parmin,parmax,yactual,time,stocks,parms){\n",
    "    ModResults <- modFit(\n",
    "        f = CostFunction,\n",
    "        p = parvalue,\n",
    "        lower = parmin,\n",
    "        upper = parmax,\n",
    "        time = time,\n",
    "        stocks = stocks,\n",
    "        parms = parms,\n",
    "        yactual = yactual,\n",
    "        method = 'Port'\n",
    "    )\n",
    "    return(ModResults)\n",
    "}"
   ]
  },
  {
   "cell_type": "markdown",
   "metadata": {},
   "source": [
    "We assumed that `p` ($\\beta_j$) is a subset of all `parms` because not all the parameters need to be calibrated if they are known or assumed a priori.  For example, population size is exogenous and known in our model, so we will not be calibrating `omega` ($\\omega$).  In some cases, we may also assume that `p` can include initial conditions.  We also need to define the upper  and lower bound ($\\overline{\\beta_j}$ and $\\underline{\\beta_j}$)."
   ]
  },
  {
   "cell_type": "code",
   "execution_count": 12,
   "metadata": {},
   "outputs": [],
   "source": [
    "p <- c(\n",
    "    alpha = 0.2,              # Security Risk (Percentage)\n",
    "    beta = .6,                # Sensitivity to security risks\n",
    "    gamma = 10,               # Unrestricted data sharing \n",
    "    delta = 5,                # Availability of treatment on general health\n",
    "    zeta = 3,                 # Inverse relationship between general health and sickness frequency\n",
    "    eta1 = 0.3,               # Data Technology Multiplier\n",
    "    rho = 7.5,                # Market success on R&D budget \n",
    "    nu = .5,                  # Cost per subject\n",
    "    sigma = 100,              # Clinical trials multiplier\n",
    "    theta = 1,                # Sick population effect on enrollment motivation\n",
    "    lambda = 0.8,             # Hospital discharge rate\n",
    "    phi = 0.05,               # Obsolete treatment fraction\n",
    "    mu = 10                   # Trial enrollment size on data generated per trial\n",
    ")\n",
    "pmin <- c(\n",
    "    alpha = 0.01,             # Security Risk (Percentage)\n",
    "    beta = 0.01,              # Sensitivity to security risks\n",
    "    gamma = 0.01,             # Unrestricted data sharing \n",
    "    delta = 0.01,             # Availability of treatment on general health\n",
    "    zeta = 0.01,              # Inverse relationship between general health and sickness frequency\n",
    "    eta1 = 0.01,              # Data Technology Multiplier\n",
    "    rho = 0.01,               # Market success on R&D budget \n",
    "    nu = 0.01,                # Cost per subject\n",
    "    sigma = 1,                # Clinical trials multiplier\n",
    "    theta = 0.01,             # Sick population effect on enrollment motivation\n",
    "    lambda = 0.5,             # Hospital discharge rate\n",
    "    phi = 0.01,               # Obsolete treatment fraction\n",
    "    mu = 0.01                 # Trial enrollment size on data generated per trial\n",
    ")\n",
    "pmax <- c(\n",
    "    alpha = 1,                # Security Risk (Percentage)\n",
    "    beta = 100,               # Sensitivity to security risks\n",
    "    gamma = 200,              # Unrestricted data sharing \n",
    "    delta = 100,              # Availability of treatment on general health\n",
    "    zeta = 100,               # Inverse relationship between general health and sickness frequency\n",
    "    eta1 = 100,               # Data Technology Multiplier\n",
    "    rho =  100,               # Market success on R&D budget \n",
    "    nu = 100,                 # Cost per subject\n",
    "    sigma = 100,              # Clinical trials multiplier\n",
    "    theta = 100,              # Sick population effect on enrollment motivation\n",
    "    lambda = 1,               # Hospital discharge rate\n",
    "    phi = 1,                  # Obsolete treatment fraction\n",
    "    mu = 100                  # Trial enrollment size on data generated per trial\n",
    ")"
   ]
  },
  {
   "cell_type": "markdown",
   "metadata": {},
   "source": [
    "Now that all the variables are defined, we can run our calibration heuristic and obtain the paramter solution.  Depending on the optimization algorithm, this will take some time to compute."
   ]
  },
  {
   "cell_type": "code",
   "execution_count": 13,
   "metadata": {},
   "outputs": [],
   "source": [
    "HealthCalibOut <- HealthModFit(p,pmin,pmax,longActualData,trange,InitStocks,Parms)"
   ]
  },
  {
   "cell_type": "markdown",
   "metadata": {},
   "source": [
    "After the fit is complete, we can print out the model cost, which is the total SSR for the model.  "
   ]
  },
  {
   "cell_type": "code",
   "execution_count": 14,
   "metadata": {},
   "outputs": [
    {
     "name": "stdout",
     "output_type": "stream",
     "text": [
      "[1] 52.86146\n"
     ]
    }
   ],
   "source": [
    "print(HealthCalibOut$ssr) # print model cost"
   ]
  },
  {
   "cell_type": "markdown",
   "metadata": {},
   "source": [
    "Now we have a new set of parameters that best fit the data. "
   ]
  },
  {
   "cell_type": "code",
   "execution_count": 15,
   "metadata": {},
   "outputs": [
    {
     "name": "stdout",
     "output_type": "stream",
     "text": [
      "       alpha         beta        gamma        delta         zeta         eta1 \n",
      "2.343768e-02 6.930588e+00 1.774340e+00 5.582317e+00 1.215378e+01 1.138784e+01 \n",
      "        eta2          rho           nu        sigma        theta       lambda \n",
      "1.000000e+00 8.478049e+01 1.000000e-02 5.469444e+01 1.000000e-02 5.000000e-01 \n",
      "          mu          phi        omega \n",
      "2.047747e+01 1.000000e-02 5.000000e+04 \n"
     ]
    }
   ],
   "source": [
    "CalibParms <- Parms\n",
    "CalibParms[names(HealthCalibOut$par)] <- HealthCalibOut$par\n",
    "print(CalibParms)"
   ]
  },
  {
   "cell_type": "code",
   "execution_count": 16,
   "metadata": {},
   "outputs": [
    {
     "data": {},
     "metadata": {},
     "output_type": "display_data"
    },
    {
     "data": {
      "image/png": "[encoded data removed]",
      "text/plain": [
       "plot without title"
      ]
     },
     "metadata": {},
     "output_type": "display_data"
    }
   ],
   "source": [
    "CalibOutData <- data.frame(ode(InitStocks,trange,HealthDataMod,CalibParms,'rk4'))\n",
    "SimData <- melt(CalibOutData, id.vars='time')\n",
    "SimData$series <- 'BaseSimulation'\n",
    "ActData <- melt(actualData, id.vars = 'time')\n",
    "ActData$series <- 'Actual'\n",
    "ggplot() + \n",
    "  geom_line(aes(x = time,y = value,color = series,group=series),data = SimData) +\n",
    "  geom_point(aes(x = time,y = value,color = series),data = ActData,alpha=.3) + \n",
    "  facet_grid(variable ~ .,scales= 'free_y') +\n",
    "  theme_bw()"
   ]
  },
  {
   "cell_type": "markdown",
   "metadata": {},
   "source": [
    "## Scenario and Policy Analysis\n",
    "Now that we have a working model, it is possible to conduct policy experiments by conducting a sensitivity analysis on our system dynamics model by varying the parameters that correspond with different policy interventions.  We have set up three experiments:\n",
    "1. Increased cyber security attacks (Security Risk)\n",
    "2. Better machine learning and artifical algorithms (Data Technology)\n",
    "3. Increased data capture and interoperability in clinical trials (Data generated per trial)\n",
    "\n",
    "We conduct our first policy experiment by running the model with security risk $\\alpha$ being tripled.  The base run (calibrated run in the previous section) can be considered as the \"business-as-usual\" scenario.  In these policy experiments, we are comparing the base run with alternative scenario with the adjusted parameters."
   ]
  },
  {
   "cell_type": "code",
   "execution_count": 17,
   "metadata": {},
   "outputs": [
    {
     "data": {},
     "metadata": {},
     "output_type": "display_data"
    },
    {
     "data": {
      "image/png": "[encoded data removed]",
      "text/plain": [
       "plot without title"
      ]
     },
     "metadata": {},
     "output_type": "display_data"
    }
   ],
   "source": [
    "SecParms <- CalibParms \n",
    "SecParms['alpha'] <- CalibParms['alpha'] * 3\n",
    "SecOutData <- data.frame(ode(InitStocks,trange,HealthDataMod,SecParms,'rk4'))\n",
    "SecData <- melt(SecOutData, id.vars='time')\n",
    "SecData$series <- 'IncreasedSecurityThreat'\n",
    "SecData <- rbind(SecData,SimData)\n",
    "ggplot(aes(x = time,y = value,color = series),data = SecData) + \n",
    "  geom_line() + \n",
    "  facet_grid(variable ~ .,scales= 'free_y') +\n",
    "  theme_bw()"
   ]
  },
  {
   "cell_type": "markdown",
   "metadata": {},
   "source": [
    "The second policy experiment was run with the data technology parameter $\\eta_1$ being doubled.  This, again, was compared with the base run.  "
   ]
  },
  {
   "cell_type": "code",
   "execution_count": 18,
   "metadata": {},
   "outputs": [
    {
     "data": {},
     "metadata": {},
     "output_type": "display_data"
    },
    {
     "data": {
      "image/png": "[encoded data removed]",
      "text/plain": [
       "plot without title"
      ]
     },
     "metadata": {},
     "output_type": "display_data"
    }
   ],
   "source": [
    "AIParms <- CalibParms \n",
    "AIParms['eta1'] <- CalibParms['eta1'] * 2\n",
    "AIOutData <- data.frame(ode(InitStocks,trange,HealthDataMod,AIParms,'rk4'))\n",
    "AIData <- melt(AIOutData, id.vars='time')\n",
    "AIData$series <- 'IncreasedTechnology'\n",
    "AIData <- rbind(AIData,SimData)\n",
    "ggplot(aes(x = time,y = value,color = series),data = AIData) + \n",
    "  geom_line() + \n",
    "  facet_grid(variable ~ .,scales= 'free_y') +\n",
    "  theme_bw()"
   ]
  },
  {
   "cell_type": "markdown",
   "metadata": {},
   "source": [
    "The final scenario (better interoperability of clinical trials) is simulated in the following against the base run. "
   ]
  },
  {
   "cell_type": "code",
   "execution_count": 19,
   "metadata": {},
   "outputs": [
    {
     "data": {},
     "metadata": {},
     "output_type": "display_data"
    },
    {
     "data": {
      "image/png": "[encoded data removed]",
      "text/plain": [
       "plot without title"
      ]
     },
     "metadata": {},
     "output_type": "display_data"
    }
   ],
   "source": [
    "IOParms <- CalibParms \n",
    "IOParms['mu'] <- CalibParms['mu'] * 2\n",
    "IOOutData <- data.frame(ode(InitStocks,trange,HealthDataMod,IOParms,'rk4'))\n",
    "IOData <- melt(IOOutData, id.vars='time')\n",
    "IOData$series <- 'BetterInteroperability'\n",
    "IOData <- rbind(IOData,SimData)\n",
    "ggplot(aes(x = time,y = value,color = series),data = IOData) + \n",
    "  geom_line() + \n",
    "  facet_grid(variable ~ .,scales= 'free_y') +\n",
    "  theme_bw()"
   ]
  }
 ],
 "metadata": {
  "kernelspec": {
   "display_name": "R",
   "language": "R",
   "name": "ir"
  },
  "language_info": {
   "codemirror_mode": "r",
   "file_extension": ".r",
   "mimetype": "text/x-r-source",
   "name": "R",
   "pygments_lexer": "r",
   "version": "3.5.1"
  }
 },
 "nbformat": 4,
 "nbformat_minor": 2
}
